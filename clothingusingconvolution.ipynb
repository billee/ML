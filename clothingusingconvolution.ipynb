{
  "nbformat": 4,
  "nbformat_minor": 0,
  "metadata": {
    "colab": {
      "name": "clothingusingconvolution.ipynb",
      "provenance": [],
      "authorship_tag": "ABX9TyNl8Bw/8OrqrR4bqsMwtvYz",
      "include_colab_link": true
    },
    "kernelspec": {
      "name": "python3",
      "display_name": "Python 3"
    }
  },
  "cells": [
    {
      "cell_type": "markdown",
      "metadata": {
        "id": "view-in-github",
        "colab_type": "text"
      },
      "source": [
        "<a href=\"https://colab.research.google.com/github/billee/ML/blob/main/clothingusingconvolution.ipynb\" target=\"_parent\"><img src=\"https://colab.research.google.com/assets/colab-badge.svg\" alt=\"Open In Colab\"/></a>"
      ]
    },
    {
      "cell_type": "code",
      "metadata": {
        "id": "7h3vStSpwiFa"
      },
      "source": [
        "import tensorflow as tf\r\n",
        "data = tf.keras.datasets.fashion_mnist\r\n",
        "\r\n",
        "(training_images, training_labels), (test_images, test_labels) = data.load_data()\r\n",
        "\r\n",
        "training_images = training_images.reshape(60000, 28, 28, 1)\r\n",
        "training_images = training_images / 255.0\r\n",
        "test_images = test_images.reshape(10000, 28, 28, 1)\r\n",
        "test_images = test_images / 255.0\r\n",
        "\r\n",
        "model = tf.keras.models.Sequential([\r\n",
        "      tf.keras.layers.Conv2D(64, (3, 3), activation='relu', \r\n",
        "                  input_shape=(28, 28, 1)),\r\n",
        "      tf.keras.layers.MaxPooling2D(2, 2),\r\n",
        "      tf.keras.layers.Conv2D(64, (3, 3), activation='relu'),\r\n",
        "      tf.keras.layers.MaxPooling2D(2,2),\r\n",
        "      tf.keras.layers.Flatten(),\r\n",
        "      tf.keras.layers.Dense(128, activation=tf.nn.relu),\r\n",
        "      tf.keras.layers.Dense(10, activation=tf.nn.softmax)\r\n",
        "    ])\r\n",
        "\r\n",
        "model.compile(optimizer='adam',\r\n",
        "       loss='sparse_categorical_crossentropy',\r\n",
        "       metrics=['accuracy'])\r\n",
        "\r\n",
        "model.fit(training_images, training_labels, epochs=50)\r\n",
        "\r\n",
        "model.evaluate(test_images, test_labels)\r\n",
        "\r\n",
        "classifications = model.predict(test_images)\r\n",
        "print(classifications[0])\r\n",
        "print(test_labels[0])"
      ],
      "execution_count": null,
      "outputs": []
    }
  ]
}